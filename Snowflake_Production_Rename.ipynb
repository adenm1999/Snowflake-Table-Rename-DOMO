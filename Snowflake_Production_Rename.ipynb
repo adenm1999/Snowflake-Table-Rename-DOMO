{
 "cells": [
  {
   "cell_type": "markdown",
   "id": "f5c0bd8a-fa43-440f-b2a5-b76fd1aa4921",
   "metadata": {},
   "source": [
    "## Section 1 - Authenticing / Access credentials "
   ]
  },
  {
   "cell_type": "code",
   "execution_count": 13,
   "id": "8036f072-0f2c-4521-a200-702b605f1725",
   "metadata": {},
   "outputs": [
    {
     "name": "stdout",
     "output_type": "stream",
     "text": [
      "[{'description': 'Linked on 30 June 2022', 'engine': 'SNOWFLAKE', 'friendlyName': 'EMEA Snowflake', 'id': '386806fa-509d-4437-8cf2-96155f4e1ddd', 'internalDeviceName': 'X1-prod10-068', 'initialized': True, 'writeable': True, 'warehousesValidConfiguration': True, 'ownerEntity': {'type': 'USER', 'id': '514364871'}}, {'description': '', 'engine': 'SNOWFLAKE', 'friendlyName': 'CS Calendar Test', 'id': '0b6f4d92-449e-4d1d-b83f-ba5f99b6bc28', 'internalDeviceName': 'X1-prod10-463', 'initialized': True, 'writeable': True, 'warehousesValidConfiguration': True, 'ownerEntity': {'type': 'USER', 'id': '442541727'}}, {'description': 'DOMO_EMEA', 'engine': 'SNOWFLAKE', 'friendlyName': 'domosnowflake-domo_emea_aws_eu_west_1', 'id': '1f79ec77-13f5-4ee2-9969-9bd1e6e4856e', 'internalDeviceName': 'X1-prod10-010', 'initialized': True, 'writeable': True, 'warehousesValidConfiguration': True, 'ownerEntity': {'type': 'USER', 'id': '1624248632'}}, {'description': 'Case - 05850475', 'engine': 'SNOWFLAKE', 'friendlyName': 'Support Test ', 'id': '5ac39a82-40fb-4de1-89fb-d2f7ada160a4', 'internalDeviceName': 'X1-prod10-459', 'initialized': True, 'writeable': True, 'warehousesValidConfiguration': True, 'ownerEntity': {'type': 'USER', 'id': '27'}}, {'description': 'Luis Cortizo Multi-cloud environment', 'engine': 'SNOWFLAKE', 'friendlyName': 'LCC Domo', 'id': '6495854f-9894-4067-9424-7ff6896dc4d9', 'internalDeviceName': 'X1-prod10-273', 'initialized': False, 'writeable': False, 'warehousesValidConfiguration': True, 'ownerEntity': {'type': 'USER', 'id': '1199918966'}}, {'description': '', 'engine': 'SNOWFLAKE', 'friendlyName': 'DOMOMA', 'id': '8a259a15-f3a5-4ece-82c5-4114c9df8730', 'internalDeviceName': 'X1-prod10-480', 'initialized': True, 'writeable': True, 'warehousesValidConfiguration': True, 'ownerEntity': {'type': 'USER', 'id': '791731339'}}, {'description': 'New connection', 'engine': 'SNOWFLAKE', 'friendlyName': 'DOMOMA2', 'id': 'a4ca916d-ab03-46d0-8778-b2579c34165b', 'internalDeviceName': 'X1-prod10-483', 'initialized': False, 'writeable': False, 'warehousesValidConfiguration': True, 'ownerEntity': {'type': 'USER', 'id': '791731339'}}, {'description': '', 'engine': 'SNOWFLAKE', 'friendlyName': 'CS_Test', 'id': 'ab8966b5-7504-486c-9177-08a5129d323b', 'internalDeviceName': 'X1-prod10-451', 'initialized': True, 'writeable': True, 'warehousesValidConfiguration': True, 'ownerEntity': {'type': 'USER', 'id': '442541727'}}, {'description': '', 'engine': 'SNOWFLAKE', 'friendlyName': 'CS_Test_2', 'id': 'c002d543-a3f0-4f55-801a-21e80739c669', 'internalDeviceName': 'X1-prod10-457', 'initialized': True, 'writeable': True, 'warehousesValidConfiguration': True, 'ownerEntity': {'type': 'USER', 'id': '442541727'}}]\n"
     ]
    }
   ],
   "source": [
    "import requests\n",
    "\n",
    "# Listing Clouds\n",
    "domain = \"custom-emea-multicloud.domo.com\"\n",
    "access_token = \"c4156a47b62d3d673a4ea22d312537064fca68e092633b61\"\n",
    "\n",
    "response = requests.get(\n",
    "    url=f\"https://{domain}/api/query/v1/byos/accounts/basic\",\n",
    "    headers={\"X-Domo-Developer-Token\": access_token},\n",
    ")\n",
    "\n",
    "print(response.json())"
   ]
  },
  {
   "cell_type": "markdown",
   "id": "26c3a3f4-ac90-4144-ac46-c854dbf55181",
   "metadata": {},
   "source": [
    "## Section 2 - Getting the cloud_id from the JSON output answer"
   ]
  },
  {
   "cell_type": "code",
   "execution_count": 14,
   "id": "82443a9b-65db-4b89-bc9e-0482a898639d",
   "metadata": {},
   "outputs": [
    {
     "name": "stdout",
     "output_type": "stream",
     "text": [
      "8a259a15-f3a5-4ece-82c5-4114c9df8730\n"
     ]
    }
   ],
   "source": [
    "# Make the right call when choosing the friendlyName which is the Domo Multi - cloud account \n",
    "\n",
    "import requests\n",
    "\n",
    "# Listing Cloud for the Domo connection\n",
    "domain = \"custom-emea-multicloud.domo.com\"\n",
    "access_token = \"c4156a47b62d3d673a4ea22d312537064fca68e092633b61\"\n",
    "\n",
    "response_1 = requests.get(\n",
    "    url=f\"https://{domain}/api/query/v1/byos/accounts/basic\",\n",
    "    headers={\"X-Domo-Developer-Token\": access_token},\n",
    ")\n",
    "\n",
    "# Filter out the json containing 'friendlyName': '' - That contains the datasets in the database\n",
    "cloud_id = {}\n",
    "for cloud in response_1.json():\n",
    "    if cloud['friendlyName'] == 'DOMOMA':\n",
    "        cloud_id = cloud['id']\n",
    "\n",
    "print(cloud_id)"
   ]
  },
  {
   "attachments": {},
   "cell_type": "markdown",
   "id": "0404395c",
   "metadata": {},
   "source": [
    "## Section 3 - Calling the Domo Dataset Outside of Domo"
   ]
  },
  {
   "cell_type": "code",
   "execution_count": 15,
   "id": "fe62a265",
   "metadata": {},
   "outputs": [
    {
     "name": "stdout",
     "output_type": "stream",
     "text": [
      "0     8079886f-b366-4f26-b846-47c660c18b83\n",
      "1     aff418d5-06dc-4af7-9406-0e8bf207116f\n",
      "2     6e7b42c2-89dc-468f-99ba-16ba611065f0\n",
      "3     9de8e13a-6b40-4ca7-a229-9cdb0f0306cb\n",
      "4     9d2745fe-3c33-449d-918e-39431b00d052\n",
      "5     4d76df8a-bce3-4873-bcf0-08291e2d45f4\n",
      "6     0193aa8c-31d4-45a5-ac17-cbda6e804300\n",
      "7     6f0a7fd5-19ba-4cfd-ad71-6518491895b6\n",
      "8     d685aa65-3a77-4c6d-b133-7b56bbc86655\n",
      "9     66469e08-7df2-46e4-b23e-c90873ed139a\n",
      "10    899a3def-ade4-45cc-9317-cb470625a5d5\n",
      "11    b95eb1e1-e711-4b95-887b-29a313c73d74\n",
      "12    13de9983-3eac-49be-bdda-9f4460ce9a8c\n",
      "13    393f1c66-a7a1-4dee-9c48-b0120ee7a0ed\n",
      "14    c6c6e624-2b25-42aa-bd62-14b7b3612369\n",
      "15    29cca1f4-972c-41d9-9a11-6019b02b5b17\n",
      "16    65053099-cdaf-4bc3-b291-cd36af8e54a6\n",
      "17    2decd8bd-e01e-4ca3-80eb-8b0e63da1d04\n",
      "18    dd3da167-0b8a-48b5-861e-44d21fea9952\n",
      "19    eb2c2fbc-7a37-4ad5-9d90-fced62ecc530\n",
      "Name: Domo Dataset ID, dtype: object\n"
     ]
    },
    {
     "name": "stderr",
     "output_type": "stream",
     "text": [
      "/Users/mahdiaden/Library/Python/3.11/lib/python/site-packages/pydomo/__init__.py:201: UserWarning: Could not infer format, so each element will be parsed individually, falling back to `dateutil`. To ensure parsing is consistent and as-expected, please specify a format.\n",
      "  df[col] = to_datetime(df[col])\n",
      "/Users/mahdiaden/Library/Python/3.11/lib/python/site-packages/pydomo/__init__.py:201: UserWarning: Could not infer format, so each element will be parsed individually, falling back to `dateutil`. To ensure parsing is consistent and as-expected, please specify a format.\n",
      "  df[col] = to_datetime(df[col])\n",
      "/Users/mahdiaden/Library/Python/3.11/lib/python/site-packages/pydomo/__init__.py:201: UserWarning: Could not infer format, so each element will be parsed individually, falling back to `dateutil`. To ensure parsing is consistent and as-expected, please specify a format.\n",
      "  df[col] = to_datetime(df[col])\n",
      "/Users/mahdiaden/Library/Python/3.11/lib/python/site-packages/pydomo/__init__.py:201: UserWarning: Could not infer format, so each element will be parsed individually, falling back to `dateutil`. To ensure parsing is consistent and as-expected, please specify a format.\n",
      "  df[col] = to_datetime(df[col])\n"
     ]
    }
   ],
   "source": [
    "from pydomo import Domo\n",
    "\n",
    "import pandas as pd\n",
    "\n",
    "client_id = 'ed90f87a-eb62-4c68-9edc-906134ade352'\n",
    "\n",
    "client_secret = '300a0dc8b6268d3bd217e48e549b25f71eb42041c6ba347725eed3eedc96b40a'\n",
    "\n",
    "domo = Domo(client_id,client_secret,api_host='api.domo.com')\n",
    "\n",
    "# Get the Dataset ID From and place in the URL\n",
    "\n",
    "# Download a data set from Domo\n",
    "df = domo.ds_get('4d76df8a-bce3-4873-bcf0-08291e2d45f4')\n",
    "\n",
    "df.head()\n",
    "\n",
    "# Get the 'domo dataset id' column\n",
    "dataset_id = df['Domo Dataset ID']\n",
    "print(dataset_id)\n",
    "\n"
   ]
  },
  {
   "cell_type": "markdown",
   "id": "f981a417-42c2-4774-963f-5d4325f37fa2",
   "metadata": {},
   "source": [
    "## Section 3 - Using the ETL to get the Domo ID'S"
   ]
  },
  {
   "cell_type": "code",
   "execution_count": null,
   "id": "2c4f251d-5fe7-43d4-af6d-d55f3e74eac5",
   "metadata": {},
   "outputs": [],
   "source": [
    "import domojupyter as domo\n",
    "import pandas as pd\n",
    "\n",
    "df = domo.read_dataframe('SnowFlake & Domo Mapping', query='SELECT * FROM table')\n",
    "df.head()\n",
    "# Get the 'domo dataset id' column\n",
    "dataset_id = df['Domo Dataset ID']\n",
    "print(dataset_id)"
   ]
  },
  {
   "cell_type": "markdown",
   "id": "ba51902b-92e8-431a-8943-6ce4d31ea78d",
   "metadata": {},
   "source": [
    "## Section 4 - Creating Iteration loop using the Dataset id and creating the mapping conditions "
   ]
  },
  {
   "cell_type": "code",
   "execution_count": 20,
   "id": "462ab4fe-777f-4036-9e9b-1e9ccd1a64b0",
   "metadata": {},
   "outputs": [
    {
     "name": "stdout",
     "output_type": "stream",
     "text": [
      "{'database': 'DOMO_MANAGED_DB_AD', 'schemaName': 'cust_custom_emea_multicloud', 'tableName': 'Google_Analytics_Base_Metrics_TEST'}\n",
      "{'database': 'DOMO_MANAGED_DB_AD', 'schemaName': 'cust_custom_emea_multicloud', 'tableName': 'Google_Stock_Price_Train'}\n",
      "{'database': 'DOMO_MANAGED_DB_AD', 'schemaName': 'cust_custom_emea_multicloud', 'tableName': 'Domo_Datasets'}\n",
      "{'database': 'DOMO_MANAGED_DB_AD', 'schemaName': 'cust_custom_emea_multicloud', 'tableName': 'Example_Dataset_2'}\n",
      "{'database': 'DOMO_MANAGED_DB_AD', 'schemaName': 'cust_custom_emea_multicloud', 'tableName': 'TEST_2_'}\n",
      "{'database': 'DOMO_MANAGED_DB_AD', 'schemaName': 'cust_custom_emea_multicloud', 'tableName': 'SnowFlake_Domo_Mapping'}\n",
      "{'database': 'DOMO_MANAGED_DB_AD', 'schemaName': 'cust_custom_emea_multicloud', 'tableName': 'Snowflake_Table'}\n",
      "{'database': 'DOMO_MANAGED_DB_AD', 'schemaName': 'cust_custom_emea_multicloud', 'tableName': 'DONE_xlsx'}\n",
      "{'database': 'DOMO_MANAGED_DB_AD', 'schemaName': 'cust_custom_emea_multicloud', 'tableName': 'Players_Data'}\n",
      "{'database': 'DOMO_MANAGED_DB_AD', 'schemaName': 'cust_custom_emea_multicloud', 'tableName': 'TEST_DOMO'}\n",
      "{'database': 'DOMO_MANAGED_DB_AD', 'schemaName': 'cust_custom_emea_multicloud', 'tableName': 'Example_Sales_DOMO'}\n",
      "{'database': 'DOMO_MANAGED_DB_AD', 'schemaName': 'cust_custom_emea_multicloud', 'tableName': 'CarPrice_Assignment_'}\n",
      "{'database': 'DOMO_MANAGED_DB_AD', 'schemaName': 'cust_custom_emea_multicloud', 'tableName': 'sales_data_sample_csv'}\n",
      "{'database': 'DOMO_MANAGED_DB_AD', 'schemaName': 'cust_custom_emea_multicloud', 'tableName': 'supermarket_sales'}\n",
      "{'database': 'DOMO_MANAGED_DB_AD', 'schemaName': 'cust_custom_emea_multicloud', 'tableName': 'NEW_Example_Sales_xlsx'}\n",
      "{'database': 'DOMO_MANAGED_DB_AD', 'schemaName': 'cust_custom_emea_multicloud', 'tableName': 'First_Dataset_1'}\n",
      "{'database': 'DOMO_MANAGED_DB_AD', 'schemaName': 'cust_custom_emea_multicloud', 'tableName': 'Fourth_Dataset_Test'}\n",
      "{'database': 'DOMO_MANAGED_DB_AD', 'schemaName': 'cust_custom_emea_multicloud', 'tableName': 'Fifth_Dataset_Test'}\n",
      "{'database': 'DOMO_MANAGED_DB_AD', 'schemaName': 'cust_custom_emea_multicloud', 'tableName': 'Second_Test_Dataset'}\n",
      "{'database': 'DOMO_MANAGED_DB_AD', 'schemaName': 'cust_custom_emea_multicloud', 'tableName': 'Third_Dataset_Test'}\n"
     ]
    }
   ],
   "source": [
    "import requests\n",
    "\n",
    "# Create a session object for making multiple requests\n",
    "session = requests.Session()\n",
    "session.headers.update({\"X-Domo-Developer-Token\": access_token})\n",
    "\n",
    "for id in dataset_id:\n",
    "    url = f\"https://{domain}/api/query/v1/byos/accounts/{cloud_id}/datasets/{id}/mapping\"\n",
    "    \n",
    "\n",
    "    try:\n",
    "        response = session.get(url)\n",
    "        response.raise_for_status()  # Raise an exception for any HTTP errors\n",
    "        data = response.json()\n",
    "        print(response.json())\n",
    "\n",
    "    except requests.exceptions.RequestException as e:\n",
    "        print(f\"An error occurred for Dataset ID: {id}\")\n",
    "        print(f\"Error details: {e}\")\n",
    "        print(\"---\")\n"
   ]
  },
  {
   "cell_type": "markdown",
   "id": "330b42dc-96d4-4d14-ac45-d1d637e6321c",
   "metadata": {},
   "source": [
    "## Section 5 - Using the Domo table name column to use in the mapping in snowflake"
   ]
  },
  {
   "cell_type": "code",
   "execution_count": 17,
   "id": "3464d2d0-c953-4dec-9691-2f2666029785",
   "metadata": {},
   "outputs": [
    {
     "name": "stdout",
     "output_type": "stream",
     "text": [
      "0     Google Analytics Base Metrics TEST\n",
      "1               Google_Stock_Price_Train\n",
      "2                          Domo Datasets\n",
      "3                      Example Dataset 2\n",
      "4                                TEST 2 \n",
      "5               SnowFlake & Domo Mapping\n",
      "6                        Snowflake_Table\n",
      "7                              DONE.xlsx\n",
      "8                           Players Data\n",
      "9                              TEST DOMO\n",
      "10                    Example Sales DOMO\n",
      "11                  CarPrice_Assignment \n",
      "12                 sales_data_sample.csv\n",
      "13                     supermarket_sales\n",
      "14                NEW Example Sales.xlsx\n",
      "15                       First Dataset 1\n",
      "16                   Fourth Dataset Test\n",
      "17                    Fifth Dataset Test\n",
      "18                   Second Test Dataset\n",
      "19                    Third Dataset Test\n",
      "Name: Domo Table Name, dtype: object\n"
     ]
    }
   ],
   "source": [
    "TABLENAME = df['Domo Table Name']\n",
    "print(TABLENAME)"
   ]
  },
  {
   "cell_type": "markdown",
   "id": "033d7443-653a-422f-8595-8908fb2d8277",
   "metadata": {},
   "source": [
    "## Section 6 - Creating the for loops that uses the mapping conditions and Name of the tables from the dataset to call the API - Change the Snowflake table names"
   ]
  },
  {
   "cell_type": "code",
   "execution_count": 18,
   "id": "982d2a5f-2c12-4b95-9cbc-a37df0590743",
   "metadata": {},
   "outputs": [
    {
     "name": "stdout",
     "output_type": "stream",
     "text": [
      "Mapping updated successfully\n",
      "Mapping updated successfully\n",
      "Mapping updated successfully\n",
      "Mapping updated successfully\n",
      "Mapping updated successfully\n",
      "Mapping updated successfully\n",
      "Mapping updated successfully\n",
      "Mapping updated successfully\n",
      "Mapping updated successfully\n",
      "Mapping updated successfully\n",
      "Mapping updated successfully\n",
      "Mapping updated successfully\n",
      "Mapping updated successfully\n",
      "Mapping updated successfully\n",
      "Mapping updated successfully\n",
      "Mapping updated successfully\n",
      "Mapping updated successfully\n",
      "Mapping updated successfully\n",
      "Mapping updated successfully\n",
      "Mapping updated successfully\n"
     ]
    }
   ],
   "source": [
    "import requests\n",
    "import time\n",
    "\n",
    "# Create a session object for making multiple requests\n",
    "session = requests.Session()\n",
    "session.headers.update({\n",
    "    \"Content-Type\": \"application/json\",\n",
    "    \"X-DOMO-Developer-Token\": access_token,\n",
    "})\n",
    "\n",
    "# Define the delay between API calls (in seconds)\n",
    "delay = 0.1\n",
    "\n",
    "# Loop through each dataset ID\n",
    "for i in range(len(dataset_id)):\n",
    "    id = dataset_id[i]\n",
    "    table_name = TABLENAME[i]\n",
    "\n",
    "    url = f\"https://{domain}/api/query/v1/byos/accounts/{cloud_id}/datasets/{id}/mapping\"\n",
    "\n",
    "    try:\n",
    "        payload = {\n",
    "            \"mapping\": {\n",
    "                \"tableName\": table_name,\n",
    "            },\n",
    "            \"standardize\": True,\n",
    "        }\n",
    "\n",
    "        response = session.put(url, json=payload)\n",
    "        response.raise_for_status()  # Raise an exception for any HTTP errors\n",
    "\n",
    "        print(\"Mapping updated successfully\")\n",
    "\n",
    "    except requests.exceptions.RequestException as e:\n",
    "        print(f\"Error updating mapping for table '{table_name}' in dataset ID '{id}': {e}\")\n",
    "\n",
    "    # Pause for the specified delay before the next API call for the same dataset ID\n",
    "    time.sleep(delay)\n"
   ]
  },
  {
   "cell_type": "markdown",
   "id": "09006478-af2a-458e-b549-18e65fed4519",
   "metadata": {},
   "source": [
    "## Section 7 - Force the change in the API - Change the Snowflake table names"
   ]
  },
  {
   "cell_type": "code",
   "execution_count": 19,
   "id": "8f64574c-7906-421c-a985-9a31c00aaa4f",
   "metadata": {},
   "outputs": [
    {
     "name": "stdout",
     "output_type": "stream",
     "text": [
      "{'indexRequestReceived': '20230531101428.689'}\n",
      "{'indexRequestReceived': '20230531101429.747'}\n",
      "{'indexRequestReceived': '20230531101430.807'}\n",
      "{'indexRequestReceived': '20230531101431.856'}\n",
      "{'indexRequestReceived': '20230531101432.919'}\n",
      "{'indexRequestReceived': '20230531101433.991'}\n",
      "{'indexRequestReceived': '20230531101435.039'}\n",
      "{'indexRequestReceived': '20230531101436.091'}\n",
      "{'indexRequestReceived': '20230531101437.146'}\n",
      "{'indexRequestReceived': '20230531101438.198'}\n",
      "{'indexRequestReceived': '20230531101439.303'}\n",
      "{'indexRequestReceived': '20230531101440.383'}\n",
      "{'indexRequestReceived': '20230531101441.449'}\n",
      "{'indexRequestReceived': '20230531101442.507'}\n",
      "{'indexRequestReceived': '20230531101443.564'}\n",
      "{'indexRequestReceived': '20230531101444.620'}\n",
      "{'indexRequestReceived': '20230531101445.673'}\n",
      "{'indexRequestReceived': '20230531101446.733'}\n",
      "{'indexRequestReceived': '20230531101447.785'}\n",
      "{'indexRequestReceived': '20230531101448.843'}\n"
     ]
    }
   ],
   "source": [
    "import requests\n",
    "import time\n",
    "\n",
    "# Create a session object for making multiple requests\n",
    "session = requests.Session()\n",
    "session.headers.update({\n",
    "    \"Content-Type\": \"application/json\",\n",
    "    \"X-DOMO-Developer-Token\": access_token,\n",
    "})\n",
    "\n",
    "def update_index_for_dataset_id(dataset_id):\n",
    "    url = f\"https://{domain}/api/query/v1/datasources/{dataset_id}/index\"\n",
    "\n",
    "    try:\n",
    "        payload = {\n",
    "            \"mapping\": {\n",
    "                \"tableName\": table_name,\n",
    "            },\n",
    "            \"standardize\": True,\n",
    "        }\n",
    "\n",
    "        response = session.post(url, json=payload)\n",
    "        response.raise_for_status()  # Raise an exception for any HTTP errors\n",
    "\n",
    "        if response.status_code == 200:\n",
    "            print(response.json())\n",
    "        else:\n",
    "            print(f\"Error updating index for dataset ID {dataset_id}: {response.status_code} - {response.reason}\")\n",
    "\n",
    "    except requests.exceptions.RequestException as e:\n",
    "        print(f\"An error occurred while making the request for dataset ID {dataset_id}: {str(e)}\")\n",
    "\n",
    "# Loop through each ID and call the function\n",
    "for id in dataset_id:\n",
    "    update_index_for_dataset_id(id)\n",
    "    time.sleep(1)  # Pause for 1 second before the next API call\n"
   ]
  }
 ],
 "metadata": {
  "kernelspec": {
   "display_name": "Python 3",
   "language": "python",
   "name": "python3"
  },
  "language_info": {
   "codemirror_mode": {
    "name": "ipython",
    "version": 3
   },
   "file_extension": ".py",
   "mimetype": "text/x-python",
   "name": "python",
   "nbconvert_exporter": "python",
   "pygments_lexer": "ipython3",
   "version": "3.11.1"
  },
  "vscode": {
   "interpreter": {
    "hash": "aee8b7b246df8f9039afb4144a1f6fd8d2ca17a180786b69acc140d282b71a49"
   }
  }
 },
 "nbformat": 4,
 "nbformat_minor": 5
}
