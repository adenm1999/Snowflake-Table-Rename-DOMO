{
 "cells": [
  {
   "cell_type": "markdown",
   "id": "f5c0bd8a-fa43-440f-b2a5-b76fd1aa4921",
   "metadata": {},
   "source": [
    "## Section 1 - Authenticing / Access credentials "
   ]
  },
  {
   "cell_type": "code",
   "execution_count": null,
   "id": "8036f072-0f2c-4521-a200-702b605f1725",
   "metadata": {},
   "outputs": [],
   "source": [
    "import requests\n",
    "\n",
    "# Listing Clouds\n",
    "domain = \"DOMO DOMIN\"\n",
    "access_token = \"DOMO Access token\"\n",
    "\n",
    "response = requests.get(\n",
    "    url=f\"https://{domain}/api/query/v1/byos/accounts/basic\",\n",
    "    headers={\"X-Domo-Developer-Token\": access_token},\n",
    ")\n",
    "\n",
    "print(response.json())"
   ]
  },
  {
   "cell_type": "markdown",
   "id": "26c3a3f4-ac90-4144-ac46-c854dbf55181",
   "metadata": {},
   "source": [
    "## Section 2 - Getting the cloud_id from the JSON output answer"
   ]
  },
  {
   "cell_type": "code",
   "execution_count": null,
   "id": "82443a9b-65db-4b89-bc9e-0482a898639d",
   "metadata": {},
   "outputs": [],
   "source": [
    "# Make the right call when choosing the friendlyName which is the Domo Multi - cloud account \n",
    "\n",
    "import requests\n",
    "\n",
    "# Listing Cloud for the Domo connection\n",
    "domain = \"DOMO DOMIN\"\n",
    "access_token = \"DOMO Access token\"\n",
    "\n",
    "response_1 = requests.get(\n",
    "    url=f\"https://{domain}/api/query/v1/byos/accounts/basic\",\n",
    "    headers={\"X-Domo-Developer-Token\": access_token},\n",
    ")\n",
    "\n",
    "# Filter out the json containing 'friendlyName': '' - That contains the datasets in the database\n",
    "cloud_id = {}\n",
    "for cloud in response_1.json():\n",
    "    if cloud['friendlyName'] == 'DOMO Multi-Cloud Connection Name':\n",
    "        cloud_id = cloud['id']\n",
    "\n",
    "print(cloud_id)"
   ]
  },
  {
   "attachments": {},
   "cell_type": "markdown",
   "id": "0404395c",
   "metadata": {},
   "source": [
    "## Section 3 - Calling the Domo Dataset Outside of Domo"
   ]
  },
  {
   "cell_type": "code",
   "execution_count": null,
   "id": "fe62a265",
   "metadata": {},
   "outputs": [],
   "source": [
    "from pydomo import Domo\n",
    "\n",
    "import pandas as pd\n",
    "\n",
    "client_id      = 'DOMO Client ID Found in using this url: https://developer.domo.com/ '\n",
    "client_secret  = 'DOMO Client ID Found in using this url: https://developer.domo.com/ '\n",
    "\n",
    "domo = Domo(client_id,client_secret,api_host='api.domo.com')\n",
    "\n",
    "# Get the Dataset ID From and place in the URL\n",
    "\n",
    "# Download a data set from Domo\n",
    "df = domo.ds_get('Dataset url ID Dataset GUI (located in the URL when viewing the dataset view)')\n",
    "\n",
    "df.head()\n",
    "\n",
    "# Get the 'domo dataset id' column\n",
    "dataset_id = df['Name of the Domo Dataset ID Column']\n",
    "print(dataset_id)\n",
    "\n"
   ]
  },
  {
   "cell_type": "markdown",
   "id": "f981a417-42c2-4774-963f-5d4325f37fa2",
   "metadata": {},
   "source": [
    "## Section 3 - Using the ETL to get the Domo ID'S"
   ]
  },
  {
   "cell_type": "code",
   "execution_count": null,
   "id": "2c4f251d-5fe7-43d4-af6d-d55f3e74eac5",
   "metadata": {},
   "outputs": [],
   "source": [
    "import domojupyter as domo\n",
    "import pandas as pd\n",
    "\n",
    "df = domo.read_dataframe('SnowFlake & Domo Mapping', query='SELECT * FROM table')\n",
    "df.head()\n",
    "# Get the 'domo dataset id' column\n",
    "dataset_id = df['Domo Dataset ID']\n",
    "print(dataset_id)"
   ]
  },
  {
   "cell_type": "markdown",
   "id": "ba51902b-92e8-431a-8943-6ce4d31ea78d",
   "metadata": {},
   "source": [
    "## Section 4 - Creating Iteration loop using the Dataset id and creating the mapping conditions "
   ]
  },
  {
   "cell_type": "code",
   "execution_count": null,
   "id": "462ab4fe-777f-4036-9e9b-1e9ccd1a64b0",
   "metadata": {},
   "outputs": [],
   "source": [
    "import requests\n",
    "\n",
    "# Create a session object for making multiple requests\n",
    "session = requests.Session()\n",
    "session.headers.update({\"X-Domo-Developer-Token\": access_token})\n",
    "\n",
    "for id in dataset_id:\n",
    "    url = f\"https://{domain}/api/query/v1/byos/accounts/{cloud_id}/datasets/{id}/mapping\"\n",
    "    \n",
    "\n",
    "    try:\n",
    "        response = session.get(url)\n",
    "        response.raise_for_status()  # Raise an exception for any HTTP errors\n",
    "        data = response.json()\n",
    "        print(response.json())\n",
    "\n",
    "    except requests.exceptions.RequestException as e:\n",
    "        print(f\"An error occurred for Dataset ID: {id}\")\n",
    "        print(f\"Error details: {e}\")\n",
    "        print(\"---\")\n"
   ]
  },
  {
   "cell_type": "markdown",
   "id": "330b42dc-96d4-4d14-ac45-d1d637e6321c",
   "metadata": {},
   "source": [
    "## Section 5 - Using the Domo table name column to use in the mapping in snowflake"
   ]
  },
  {
   "cell_type": "code",
   "execution_count": null,
   "id": "3464d2d0-c953-4dec-9691-2f2666029785",
   "metadata": {},
   "outputs": [],
   "source": [
    "TABLENAME = df['Domo Table Name Colunn Name ']\n",
    "print(TABLENAME)"
   ]
  },
  {
   "cell_type": "markdown",
   "id": "033d7443-653a-422f-8595-8908fb2d8277",
   "metadata": {},
   "source": [
    "## Section 6 - Creating the for loops that uses the mapping conditions and Name of the tables from the dataset to call the API - Change the Snowflake table names"
   ]
  },
  {
   "cell_type": "code",
   "execution_count": null,
   "id": "982d2a5f-2c12-4b95-9cbc-a37df0590743",
   "metadata": {},
   "outputs": [],
   "source": [
    "import requests\n",
    "import time\n",
    "\n",
    "# Create a session object for making multiple requests\n",
    "session = requests.Session()\n",
    "session.headers.update({\n",
    "    \"Content-Type\": \"application/json\",\n",
    "    \"X-DOMO-Developer-Token\": access_token,\n",
    "})\n",
    "\n",
    "# Define the delay between API calls (in seconds)\n",
    "delay = 0.1\n",
    "\n",
    "# Loop through each dataset ID\n",
    "for i in range(len(dataset_id)):\n",
    "    id = dataset_id[i]\n",
    "    table_name = TABLENAME[i]\n",
    "\n",
    "    url = f\"https://{domain}/api/query/v1/byos/accounts/{cloud_id}/datasets/{id}/mapping\"\n",
    "\n",
    "    try:\n",
    "        payload = {\n",
    "            \"mapping\": {\n",
    "                \"tableName\": table_name,\n",
    "            },\n",
    "            \"standardize\": True,\n",
    "        }\n",
    "\n",
    "        response = session.put(url, json=payload)\n",
    "        response.raise_for_status()  # Raise an exception for any HTTP errors\n",
    "\n",
    "        print(\"Mapping updated successfully\")\n",
    "\n",
    "    except requests.exceptions.RequestException as e:\n",
    "        print(f\"Error updating mapping for table '{table_name}' in dataset ID '{id}': {e}\")\n",
    "\n",
    "    # Pause for the specified delay before the next API call for the same dataset ID\n",
    "    time.sleep(delay)\n"
   ]
  },
  {
   "cell_type": "markdown",
   "id": "09006478-af2a-458e-b549-18e65fed4519",
   "metadata": {},
   "source": [
    "## Section 7 - Force the change in the API - Change the Snowflake table names"
   ]
  },
  {
   "cell_type": "code",
   "execution_count": null,
   "id": "8f64574c-7906-421c-a985-9a31c00aaa4f",
   "metadata": {},
   "outputs": [],
   "source": [
    "import requests\n",
    "import time\n",
    "\n",
    "# Create a session object for making multiple requests\n",
    "session = requests.Session()\n",
    "session.headers.update({\n",
    "    \"Content-Type\": \"application/json\",\n",
    "    \"X-DOMO-Developer-Token\": access_token,\n",
    "})\n",
    "\n",
    "def update_index_for_dataset_id(dataset_id):\n",
    "    url = f\"https://{domain}/api/query/v1/datasources/{dataset_id}/index\"\n",
    "\n",
    "    try:\n",
    "        payload = {\n",
    "            \"mapping\": {\n",
    "                \"tableName\": table_name,\n",
    "            },\n",
    "            \"standardize\": True,\n",
    "        }\n",
    "\n",
    "        response = session.post(url, json=payload)\n",
    "        response.raise_for_status()  # Raise an exception for any HTTP errors\n",
    "\n",
    "        if response.status_code == 200:\n",
    "            print(response.json())\n",
    "        else:\n",
    "            print(f\"Error updating index for dataset ID {dataset_id}: {response.status_code} - {response.reason}\")\n",
    "\n",
    "    except requests.exceptions.RequestException as e:\n",
    "        print(f\"An error occurred while making the request for dataset ID {dataset_id}: {str(e)}\")\n",
    "\n",
    "# Loop through each ID and call the function\n",
    "for id in dataset_id:\n",
    "    update_index_for_dataset_id(id)\n",
    "    time.sleep(1)  # Pause for 1 second before the next API call\n"
   ]
  }
 ],
 "metadata": {
  "kernelspec": {
   "display_name": "Python 3",
   "language": "python",
   "name": "python3"
  },
  "language_info": {
   "codemirror_mode": {
    "name": "ipython",
    "version": 3
   },
   "file_extension": ".py",
   "mimetype": "text/x-python",
   "name": "python",
   "nbconvert_exporter": "python",
   "pygments_lexer": "ipython3",
   "version": "3.11.1 (v3.11.1:a7a450f84a, Dec  6 2022, 15:24:06) [Clang 13.0.0 (clang-1300.0.29.30)]"
  },
  "vscode": {
   "interpreter": {
    "hash": "aee8b7b246df8f9039afb4144a1f6fd8d2ca17a180786b69acc140d282b71a49"
   }
  }
 },
 "nbformat": 4,
 "nbformat_minor": 5
}
